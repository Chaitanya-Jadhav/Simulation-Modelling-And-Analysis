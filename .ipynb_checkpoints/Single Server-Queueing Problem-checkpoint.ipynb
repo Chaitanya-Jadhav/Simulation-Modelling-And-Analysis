{
 "cells": [
  {
   "cell_type": "code",
   "execution_count": 1,
   "metadata": {},
   "outputs": [],
   "source": [
    "Q_LIMIT=100\n",
    "BUSY =1\n",
    "IDLE=0\n",
    "\n",
    "next_event_type=num_custs_delayed=num_delays_required=num_events=num_in_q=server_status=None\n",
    "area_num_in_q=area_server_status=mean_interarrival=mean_service=sim_time=time_last_event=total_of_delays=None\n",
    "time_arrival=[None]*(Q_LIMIT + 1)\n",
    "time_next_event=[None] *3\n",
    "IDLE_BUSY=[]\n",
    "ARRIVAL=[]\n",
    "DEPARTURE=[]"
   ]
  },
  {
   "cell_type": "code",
   "execution_count": 13,
   "metadata": {},
   "outputs": [],
   "source": [
    "import matplotlib.pyplot as plt"
   ]
  },
  {
   "cell_type": "code",
   "execution_count": 2,
   "metadata": {},
   "outputs": [],
   "source": [
    "import sys\n",
    "import numpy as np"
   ]
  },
  {
   "cell_type": "code",
   "execution_count": 3,
   "metadata": {},
   "outputs": [],
   "source": [
    "MODLUS= 2147483647\n",
    "MULT1= 24112\n",
    "MULT2= 26143\n",
    "\n",
    "\n",
    "\n",
    "zrng=[1,1973272912, 281629770,  20006270,1280689831,2096730329,1933576050,\n",
    "      913566091, 246780520,1363774876, 604901985,1511192140,1259851944,\n",
    "      824064364, 150493284, 242708531,  75253171,1964472944,1202299975,\n",
    "      233217322,1911216000, 726370533, 403498145, 993232223,1103205531,\n",
    "      762430696,1922803170,1385516923,  76271663, 413682397, 726466604,\n",
    "      336157058,1432650381,1120463904, 595778810, 877722890,1046574445,\n",
    "      68911991,2088367019, 748545416, 622401386,2122378830, 640690903,\n",
    "      1774806513,2132545692,2079249579,  78130110, 852776735,1187867272,\n",
    "      1351423507,1645973084,1997049139, 922510944,2045512870, 898585771,\n",
    "      243649545,1004818771, 773686062, 403188473, 372279877,1901633463,\n",
    "      498067494,2087759558, 493157915, 597104727,1530940798,1814496276,\n",
    "      536444882,1663153658, 855503735,  67784357,1432404475, 619691088,\n",
    "      119025595, 880802310, 176192644,1116780070, 277854671,1366580350,\n",
    "      1142483975,2026948561,1053920743, 786262391,1792203830,1494667770,\n",
    "      1923011392,1433700034,1244184613,1147297105, 539712780,1545929719,\n",
    "      190641742,1645390429, 264907697, 620389253,1502074852, 927711160,\n",
    "      364849192,2049576050, 638580085, 547070247]\n",
    "\n",
    "def lcgrand(stream):\n",
    "    #long zi, lowprd, hi31;\n",
    "\n",
    "    zi     = zrng[stream];\n",
    "    lowprd = (zi & 65535) * MULT1;\n",
    "    hi31   = (zi >> 16) * MULT1 + (lowprd >> 16);\n",
    "    zi     = ((lowprd & 65535) - MODLUS) +((hi31 & 32767) << 16) + (hi31 >> 15);\n",
    "    if (zi < 0):\n",
    "        zi += MODLUS;\n",
    "    lowprd = (zi & 65535) * MULT2;\n",
    "    hi31   = (zi >> 16) * MULT2 + (lowprd >> 16);\n",
    "    zi     = ((lowprd & 65535) - MODLUS) +((hi31 & 32767) << 16) + (hi31 >> 15);\n",
    "    if (zi < 0): \n",
    "        zi += MODLUS;\n",
    "    zrng[stream] = zi;\n",
    "    return ((zi >> 7 | 1) / 16777216.0);"
   ]
  },
  {
   "cell_type": "code",
   "execution_count": 4,
   "metadata": {},
   "outputs": [],
   "source": [
    "def initialize(): \n",
    "    \n",
    "    global next_event_type,num_custs_delayed,num_delays_required,num_events,num_in_q,server_status\n",
    "    global area_num_in_q,area_server_status,mean_interarrival,mean_service,sim_time,time_last_event,total_of_delays\n",
    "    global time_arrival,time_next_event#,Q_LIMIT,BUSY,IDLE\n",
    "    global ARRIVAL,DEPARTURE,IDLE_BUSY\n",
    "    \n",
    "    #ARRIVAL=DEPARTURE=IDLE_BUSY=[]\n",
    "    IDLE_BUSY=[]\n",
    "    ARRIVAL=[]\n",
    "    DEPARTURE=[]\n",
    "    sim_time = 0.0\n",
    "    server_status= IDLE;\n",
    "    num_in_q= 0;\n",
    "    time_last_event = 0.0\n",
    "\n",
    "    num_custs_delayed=0\n",
    "    total_of_delays=0.0\n",
    "    area_num_in_q=0.0\n",
    "    area_server_status=0.0\n",
    "\n",
    "\n",
    "    time_next_event[1] = sim_time + expon(mean_interarrival)\n",
    "    ARRIVAL.append(time_next_event[1])\n",
    "    time_next_event[2] = 1.0e+30"
   ]
  },
  {
   "cell_type": "code",
   "execution_count": 5,
   "metadata": {},
   "outputs": [],
   "source": [
    "def timing(): \n",
    "    global next_event_type,num_custs_delayed,num_delays_required,num_events,num_in_q,server_status\n",
    "    global area_num_in_q,area_server_status,mean_interarrival,mean_service,sim_time,time_last_event,total_of_delays\n",
    "    global time_arrival,time_next_event,Q_LIMIT,BUSY,IDLE\n",
    "    i=None\n",
    "    \n",
    "    min_time_next_event = 1.0e+29;\n",
    "    next_event_type = 0;\n",
    "    #print(time_next_event[0])\n",
    "    for i in range(1,num_events+1):\n",
    "        #print(i)\n",
    "        if (time_next_event[i] < min_time_next_event): \n",
    "            min_time_next_event = time_next_event[i]\n",
    "            next_event_type = i\n",
    "            \n",
    "    if (next_event_type == 0):\n",
    "        print(\"\\nEvent list empty at time \", sim_time)\n",
    "        sys.exit(1)\n",
    "    \n",
    "    sim_time = min_time_next_event"
   ]
  },
  {
   "cell_type": "code",
   "execution_count": 6,
   "metadata": {},
   "outputs": [],
   "source": [
    "#####\n",
    "\n",
    "def arrive():\n",
    "    global next_event_type,num_custs_delayed,num_delays_required,num_events,num_in_q,server_status\n",
    "    global area_num_in_q,area_server_status,mean_interarrival,mean_service,sim_time,time_last_event,total_of_delays\n",
    "    global time_arrival,time_next_event,Q_LIMIT,BUSY,IDLE,A\n",
    "    \n",
    "    delay=None\n",
    "\n",
    "    time_next_event[1] = sim_time + expon(mean_interarrival)\n",
    "    ARRIVAL.append(time_next_event[1])\n",
    "    if (server_status == BUSY):\n",
    "        if (num_in_q > Q_LIMIT):\n",
    "            print(\"\\nOverflow of the array time_arrival at\")\n",
    "            print(\" time %f\", sim_time)\n",
    "            sys.exit(2)\n",
    "        num_in_q+=1\n",
    "        time_arrival[num_in_q] = sim_time;\n",
    "        IDLE_BUSY.append(1)\n",
    "        \n",
    "    else:\n",
    "        delay= 0.0\n",
    "        total_of_delays += delay\n",
    "\n",
    "        num_custs_delayed+=1\n",
    "        server_status = BUSY\n",
    "\n",
    "        time_next_event[2] = sim_time + expon(mean_service)\n",
    "        DEPARTURE.append(time_next_event[2])\n",
    "        IDLE_BUSY.append(0)"
   ]
  },
  {
   "cell_type": "code",
   "execution_count": 7,
   "metadata": {},
   "outputs": [],
   "source": [
    "#######\n",
    "\n",
    "def depart():\n",
    "    global next_event_type,num_custs_delayed,num_delays_required,num_events,num_in_q,server_status\n",
    "    global area_num_in_q,area_server_status,mean_interarrival,mean_service,sim_time,time_last_event,total_of_delays\n",
    "    global time_arrival,time_next_event,Q_LIMIT,BUSY,IDLE,B\n",
    "    \n",
    "    i=None\n",
    "    delay=None\n",
    "    if (num_in_q == 0):\n",
    "        server_status= IDLE\n",
    "        time_next_event[2] = 1.0e+30\n",
    "    else:\n",
    "        num_in_q-=1\n",
    "\n",
    "        delay= sim_time - time_arrival[1]\n",
    "        total_of_delays += delay\n",
    "\n",
    "        num_custs_delayed+=1\n",
    "        time_next_event[2] = sim_time + expon(mean_service)\n",
    "        DEPARTURE.append(time_next_event[2])\n",
    "        for i in range(1,num_in_q+1):\n",
    "            time_arrival[i] = time_arrival[i + 1]"
   ]
  },
  {
   "cell_type": "code",
   "execution_count": 8,
   "metadata": {},
   "outputs": [],
   "source": [
    "def report():\n",
    "    global next_event_type,num_custs_delayed,num_delays_required,num_events,num_in_q,server_status\n",
    "    global area_num_in_q,area_server_status,mean_interarrival,mean_service,sim_time,time_last_event,total_of_delays\n",
    "    global time_arrival,time_next_event,Q_LIMIT,BUSY,IDLE\n",
    "    print(\"\\n\",\" \"*5,\"OUTPUT:\")\n",
    "    print(\" \"*9,\"1. Average delay in queue:\\t {} minutes\".format(np.round(total_of_delays / num_custs_delayed,3)))\n",
    "    print(\" \"*9,\"2. Average number in queue:\\t {}\".format(np.round(area_num_in_q / sim_time,3)))\n",
    "    print(\" \"*9,\"3. Server utilization:\\t {}\".format(np.round(area_server_status / sim_time,3)))\n",
    "    print(\" \"*9,\"4. Time simulation ended:\\t {} minutes\".format(np.round(sim_time,3)))"
   ]
  },
  {
   "cell_type": "code",
   "execution_count": 9,
   "metadata": {},
   "outputs": [],
   "source": [
    "def update_time_avg_stats():\n",
    "    global next_event_type,num_custs_delayed,num_delays_required,num_events,num_in_q,server_status\n",
    "    global area_num_in_q,area_server_status,mean_interarrival,mean_service,sim_time,time_last_event,total_of_delays\n",
    "    global time_arrival,time_next_event,Q_LIMIT,BUSY,IDLE\n",
    "    \n",
    "    time_since_last_event=None\n",
    "\n",
    "    time_since_last_event = sim_time - time_last_event\n",
    "    time_last_event= sim_time\n",
    "\n",
    "    area_num_in_q+= num_in_q * time_since_last_event\n",
    "\n",
    "    area_server_status += server_status * time_since_last_event"
   ]
  },
  {
   "cell_type": "code",
   "execution_count": 10,
   "metadata": {},
   "outputs": [],
   "source": [
    "def expon(mean):\n",
    "    return (-mean * np.log(lcgrand(1)))\n",
    "    #return(-mean*np.log(np.random.exponential(1)))"
   ]
  },
  {
   "cell_type": "code",
   "execution_count": 11,
   "metadata": {
    "scrolled": false
   },
   "outputs": [
    {
     "name": "stdout",
     "output_type": "stream",
     "text": [
      "                                         Single-server queueing system\n",
      "\n",
      "      INPUT:\n",
      "          1. Mean interarrival time:\t 1 minutes\n",
      "          2. Mean service time:\t\t 0.5 minutes\n",
      "          3. Number of customers:\t 20\n",
      "\n",
      "       OUTPUT:\n",
      "          1. Average delay in queue:\t 0.185 minutes\n",
      "          2. Average number in queue:\t 0.275\n",
      "          3. Server utilization:\t 0.475\n",
      "          4. Time simulation ended:\t 22.381 minutes\n"
     ]
    }
   ],
   "source": [
    "num_events = 2;\n",
    "\n",
    "mean_interarrival=1\n",
    "mean_service=0.5\n",
    "num_delays_required=20\n",
    "print(\" \"*40,\"Single-server queueing system\\n\")\n",
    "print(\" \"*5,\"INPUT:\")\n",
    "print(\" \"*9,\"1. Mean interarrival time:\\t {} minutes\".format(mean_interarrival))\n",
    "print(\" \"*9,\"2. Mean service time:\\t\\t {} minutes\".format(mean_service))\n",
    "print(\" \"*9,\"3. Number of customers:\\t {}\".format(num_delays_required))\n",
    "\n",
    "initialize()\n",
    "\n",
    "while (num_custs_delayed < num_delays_required):\n",
    "\n",
    "    timing()\n",
    "\n",
    "    update_time_avg_stats()\n",
    "\n",
    "    if(next_event_type==1):\n",
    "        arrive()\n",
    "        #break;\n",
    "    elif(next_event_type==2):\n",
    "        depart()\n",
    "        #break;\n",
    "\n",
    "report()\n",
    "ARRIVAL=ARRIVAL[:-1]"
   ]
  },
  {
   "cell_type": "code",
   "execution_count": 14,
   "metadata": {
    "scrolled": false
   },
   "outputs": [
    {
     "data": {
      "image/png": "[encoded data removed]",
      "text/plain": [
       "<Figure size 1080x432 with 1 Axes>"
      ]
     },
     "metadata": {
      "needs_background": "light"
     },
     "output_type": "display_data"
    }
   ],
   "source": [
    "X=list(range(0,len(IDLE_BUSY)))\n",
    "points=[(i,ARRIVAL[i]) for i in range(0,len(ARRIVAL))]\n",
    "\n",
    "fig, ax = plt.subplots()\n",
    "#plt.figure(figsize=(15,6))\n",
    "fig.set_figheight(6)\n",
    "fig.set_figwidth(15)\n",
    "ax.step(ARRIVAL,IDLE_BUSY,color='green')\n",
    "#plt.step(DEPARTURE,IDLE_BUSY)\n",
    "ax.set_ylim([0,1.5])\n",
    "#plt.xlim([0,10])\n",
    "ax.set_xlabel(\"Time\")\n",
    "\n",
    "'''for i in range(0,len(IDLE_BUSY)):\n",
    "    plt.plot([DEPARTURE[i],DEPARTURE[i]],[0,1],color='black',alpha=0.8)\n",
    "    \n",
    "for i in range(0,len(IDLE_BUSY)):\n",
    "    plt.plot([ARRIVAL[i],ARRIVAL[i]],[0,1],color='red',alpha=0.8)'''\n",
    "        \n",
    "ax.plot(ARRIVAL,[1]*len(ARRIVAL),'|',label='Event Arrival')\n",
    "ax.plot(DEPARTURE,[1]*len(DEPARTURE),'|',label='Event Departure')\n",
    "\n",
    "ax.fill_between(ARRIVAL, IDLE_BUSY, 0,\n",
    "                 #facecolor=\"orange\", # The fill color\n",
    "                 color='green',       # The outline color\n",
    "                 alpha=0.2,step='pre',label='System Busy')\n",
    "plt.legend()\n",
    "plt.grid()"
   ]
  },
  {
   "cell_type": "code",
   "execution_count": null,
   "metadata": {},
   "outputs": [],
   "source": []
  }
 ],
 "metadata": {
  "kernelspec": {
   "display_name": "Python 3",
   "language": "python",
   "name": "python3"
  },
  "language_info": {
   "codemirror_mode": {
    "name": "ipython",
    "version": 3
   },
   "file_extension": ".py",
   "mimetype": "text/x-python",
   "name": "python",
   "nbconvert_exporter": "python",
   "pygments_lexer": "ipython3",
   "version": "3.6.7"
  }
 },
 "nbformat": 4,
 "nbformat_minor": 2
}
